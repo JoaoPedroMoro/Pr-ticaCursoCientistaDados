{
 "cells": [
  {
   "cell_type": "markdown",
   "metadata": {},
   "source": [
    "# João Pedro Moro Bolognini\n",
    "## Prática em Python 1\n"
   ]
  },
  {
   "cell_type": "markdown",
   "metadata": {},
   "source": [
    "#### Criação de função amplitude, que deve receber uma lista e imprimir a amplitude. Necessário criação de um código para testar a função."
   ]
  },
  {
   "cell_type": "code",
   "execution_count": 6,
   "metadata": {},
   "outputs": [
    {
     "name": "stdout",
     "output_type": "stream",
     "text": [
      "A função amplitude foi criada com sucesso!\n"
     ]
    }
   ],
   "source": [
    "def amplitude(lista):\n",
    "    \"\"\"Diferença entre o maior e o menor valor da lista.\"\"\"\n",
    "    maior = max(lista)\n",
    "    menor = min(lista)\n",
    "    return f'A amplitude da lista é {maior - menor}'\n",
    "print(\"A função 'amplitude' foi criada com sucesso!\")"
   ]
  },
  {
   "cell_type": "code",
   "execution_count": 7,
   "metadata": {},
   "outputs": [
    {
     "name": "stdout",
     "output_type": "stream",
     "text": [
      "A amplitude da lista é 9\n",
      "A amplitude da lista é 107982388\n"
     ]
    }
   ],
   "source": [
    "lista1 = [1, 2, 3, 4, 5, 6, 7, 8, 9, 10]\n",
    "print(amplitude(lista1))\n",
    "lista2 = [10231, 15654, 125, 1765, 107982389, 102, 1]\n",
    "print(amplitude(lista2))"
   ]
  },
  {
   "cell_type": "markdown",
   "metadata": {},
   "source": [
    "#### Criação de uma função que recebe uma string e imprime esta função na forma vertical. Necessário a criação de um código para testar essa função."
   ]
  },
  {
   "cell_type": "code",
   "execution_count": 9,
   "metadata": {},
   "outputs": [
    {
     "name": "stdout",
     "output_type": "stream",
     "text": [
      "A função 'impressao_vertical' foi criada com sucesso!\n"
     ]
    }
   ],
   "source": [
    "def impressao_vertical(lista):\n",
    "    for i in lista:\n",
    "        print(i)\n",
    "print(\"A função 'impressao_vertical' foi criada com sucesso!\")"
   ]
  },
  {
   "cell_type": "code",
   "execution_count": 11,
   "metadata": {},
   "outputs": [
    {
     "name": "stdout",
     "output_type": "stream",
     "text": [
      "P\n",
      "y\n",
      "t\n",
      "h\n",
      "o\n",
      "n\n",
      "--\n",
      "U\n",
      "m\n",
      " \n",
      "t\n",
      "e\n",
      "s\n",
      "t\n",
      "e\n",
      " \n",
      "m\n",
      "a\n",
      "i\n",
      "o\n",
      "r\n",
      " \n",
      "p\n",
      "r\n",
      "a\n",
      " \n",
      "t\n",
      "e\n",
      "s\n",
      "t\n",
      "a\n",
      "r\n",
      "--\n",
      "U\n",
      "m\n",
      " \n",
      "c\n",
      "o\n",
      "l\n",
      "o\n",
      "s\n",
      "s\n",
      "o\n",
      " \n",
      "n\n",
      "a\n",
      " \n",
      "f\n",
      "o\n",
      "r\n",
      "m\n",
      "a\n",
      " \n",
      "d\n",
      "e\n",
      " \n",
      "s\n",
      "t\n",
      "r\n",
      "i\n",
      "n\n",
      "g\n",
      " \n",
      "p\n",
      "a\n",
      "r\n",
      "a\n",
      " \n",
      "t\n",
      "e\n",
      "s\n",
      "t\n",
      "a\n",
      "r\n",
      " \n",
      "o\n",
      " \n",
      "f\n",
      "u\n",
      "n\n",
      "c\n",
      "i\n",
      "o\n",
      "n\n",
      "a\n",
      "m\n",
      "e\n",
      "n\n",
      "t\n",
      "o\n",
      " \n",
      "t\n",
      "o\n",
      "t\n",
      "a\n",
      "l\n",
      " \n",
      "d\n",
      "e\n",
      "s\n",
      "s\n",
      "a\n",
      " \n",
      "f\n",
      "u\n",
      "n\n",
      "ç\n",
      "ã\n",
      "o\n",
      ",\n",
      " \n",
      "s\n",
      "u\n",
      "p\n",
      "o\n",
      "n\n",
      "d\n",
      "o\n",
      " \n",
      "q\n",
      "u\n",
      "e\n",
      " \n",
      "e\n",
      "s\n",
      "t\n",
      "e\n",
      "j\n",
      "a\n",
      " \n",
      "c\n",
      "o\n",
      "r\n",
      "r\n",
      "e\n",
      "t\n",
      "a\n",
      ".\n"
     ]
    }
   ],
   "source": [
    "string1 = \"Python\"\n",
    "impressao_vertical(string1)\n",
    "print(\"--\")\n",
    "\n",
    "string2 = \"Um teste maior pra testar\"\n",
    "impressao_vertical(string2)\n",
    "print(\"--\")\n",
    "\n",
    "string3 = \"Um colosso na forma de string para testar o funcionamento total dessa função, supondo que esteja correta.\"\n",
    "impressao_vertical(string3)"
   ]
  },
  {
   "cell_type": "markdown",
   "metadata": {},
   "source": [
    "#### Criação de um programa que leia o pesso de uma carga em números inteiros. O valor será decidido com base nas condições do peso"
   ]
  },
  {
   "cell_type": "code",
   "execution_count": 14,
   "metadata": {},
   "outputs": [
    {
     "name": "stdout",
     "output_type": "stream",
     "text": [
      "A função 'valor_peso' foi criada com sucesso!\n"
     ]
    }
   ],
   "source": [
    "def valor_peso(peso):\n",
    "    if peso <= 10:\n",
    "        print(f'Para o peso de {peso} kg o valor é R$50,00.')\n",
    "    elif peso <= 20:\n",
    "        print(f'Para o peso de {peso} kg o valor é R$80,00.')\n",
    "    else:\n",
    "        print(f'O transporte não é aceito pois o peso de {peso} kg ultrapassa os limites aceitos de 20 kg.')\n",
    "print(\"A função 'valor_peso' foi criada com sucesso!\")"
   ]
  },
  {
   "cell_type": "code",
   "execution_count": 15,
   "metadata": {},
   "outputs": [
    {
     "name": "stdout",
     "output_type": "stream",
     "text": [
      "Para o peso de 10 kg o valor é R$50,00.\n",
      "---------------------\n",
      "Para o peso de 11 kg o valor é R$80,00.\n",
      "---------------------\n",
      "Para o peso de 9 kg o valor é R$50,00.\n",
      "---------------------\n",
      "Para o peso de 20 kg o valor é R$80,00.\n",
      "---------------------\n",
      "O transporte não é aceito pois o peso de 21 kg ultrapassa os limites aceitos de 20 kg.\n",
      "---------------------\n",
      "Para o peso de 19 kg o valor é R$80,00.\n",
      "---------------------\n",
      "Para o peso de 1 kg o valor é R$50,00.\n",
      "---------------------\n",
      "Para o peso de 12 kg o valor é R$80,00.\n",
      "---------------------\n",
      "O transporte não é aceito pois o peso de 100 kg ultrapassa os limites aceitos de 20 kg.\n",
      "---------------------\n",
      "Para o peso de 12 kg o valor é R$80,00.\n",
      "---------------------\n"
     ]
    }
   ],
   "source": [
    "valor_peso(10)\n",
    "print(\"---------------------\")\n",
    "valor_peso(11)\n",
    "print(\"---------------------\")\n",
    "valor_peso(9)\n",
    "print(\"---------------------\")\n",
    "valor_peso(20)\n",
    "print(\"---------------------\")\n",
    "valor_peso(21)\n",
    "print(\"---------------------\")\n",
    "valor_peso(19)\n",
    "print(\"---------------------\")\n",
    "valor_peso(1)\n",
    "print(\"---------------------\")\n",
    "valor_peso(12)\n",
    "print(\"---------------------\")\n",
    "valor_peso(100)\n",
    "print(\"---------------------\")\n",
    "valor_peso(12)\n",
    "print(\"---------------------\")"
   ]
  }
 ],
 "metadata": {
  "kernelspec": {
   "display_name": "base",
   "language": "python",
   "name": "python3"
  },
  "language_info": {
   "codemirror_mode": {
    "name": "ipython",
    "version": 3
   },
   "file_extension": ".py",
   "mimetype": "text/x-python",
   "name": "python",
   "nbconvert_exporter": "python",
   "pygments_lexer": "ipython3",
   "version": "3.11.5"
  }
 },
 "nbformat": 4,
 "nbformat_minor": 2
}
